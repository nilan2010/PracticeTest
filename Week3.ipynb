{
 "cells": [
  {
   "cell_type": "markdown",
   "id": "c6b84a10-d83d-4995-ad72-45f757cdfff1",
   "metadata": {},
   "source": [
    "# Assignment 3 - Week 3"
   ]
  },
  {
   "cell_type": "markdown",
   "id": "eca3c970-bb93-478e-ba02-8a2a4ca79dd0",
   "metadata": {},
   "source": [
    "## Gamage Nilan Suranga Perera"
   ]
  },
  {
   "cell_type": "markdown",
   "id": "fd5a0a96-2bdc-4478-bf7f-dfc8888a1438",
   "metadata": {},
   "source": [
    "### 17-02-2025"
   ]
  },
  {
   "cell_type": "markdown",
   "id": "4665fecf-e3f4-4e4a-bc4b-b10cf16c8c63",
   "metadata": {},
   "source": [
    "#### 1) Write a lambda expression to get the productof two numbers"
   ]
  },
  {
   "cell_type": "code",
   "execution_count": 32,
   "id": "1992d6b8-54d1-4479-aac2-33a2a2b3fafc",
   "metadata": {},
   "outputs": [
    {
     "data": {
      "text/plain": [
       "30"
      ]
     },
     "execution_count": 32,
     "metadata": {},
     "output_type": "execute_result"
    }
   ],
   "source": [
    "expression = lambda x, y: x * y\n",
    "expression(5,6)\n"
   ]
  },
  {
   "cell_type": "markdown",
   "id": "2693f370-b142-4fa7-a197-a95a8e953656",
   "metadata": {},
   "source": [
    "#### 2) Write a function to get the area of a circle from the radius."
   ]
  },
  {
   "cell_type": "code",
   "execution_count": 33,
   "id": "8630610c-44ee-4276-9ada-c70d81227ba3",
   "metadata": {},
   "outputs": [
    {
     "data": {
      "text/plain": [
       "314.1592653589793"
      ]
     },
     "execution_count": 33,
     "metadata": {},
     "output_type": "execute_result"
    }
   ],
   "source": [
    "import math\n",
    "def calculateArea(radius):\n",
    "    return math.pi * (radius ** 2)\n",
    "calculateArea(10)"
   ]
  },
  {
   "cell_type": "markdown",
   "id": "466c8461-2db9-4004-809f-b9a603c27c76",
   "metadata": {},
   "source": [
    "#### 3) Build a simple calculator which can:add, subtract, multiply, divide."
   ]
  },
  {
   "cell_type": "code",
   "execution_count": 34,
   "id": "f3ee7571-1b23-400c-8fac-fb2fa5dfcffc",
   "metadata": {},
   "outputs": [
    {
     "data": {
      "text/plain": [
       "0.4"
      ]
     },
     "execution_count": 34,
     "metadata": {},
     "output_type": "execute_result"
    }
   ],
   "source": [
    "def calculator(num1, num2, operation):\n",
    "    if operation == 'a':  # Addition\n",
    "        return num1 + num2\n",
    "    elif operation == 's':  # Subtraction\n",
    "        return num1 - num2\n",
    "    elif operation == 'm':  # Multiplication\n",
    "        return num1 * num2\n",
    "    elif operation == 'd':  # Division\n",
    "        if num2 == 0:\n",
    "            return \"Error: Division by zero is not allowed.\"\n",
    "        return num1 / num2\n",
    "    else:\n",
    "        return \"Error: Invalid operation. Use 'a', 's', 'm', or 'd'.\"\n",
    "\n",
    "# Test the function\n",
    "calculator(2, 5, 'd')"
   ]
  },
  {
   "cell_type": "markdown",
   "id": "801ddb65-7890-4b19-a85c-e14de8d98728",
   "metadata": {},
   "source": [
    "#### 4) Define a class named Rectangle which can be constructed by a length and width. The Rectangle class has a method which can compute the area."
   ]
  },
  {
   "cell_type": "code",
   "execution_count": 35,
   "id": "0a02f20d-652d-45eb-aeb5-220cb24d8e41",
   "metadata": {},
   "outputs": [
    {
     "data": {
      "text/plain": [
       "50"
      ]
     },
     "execution_count": 35,
     "metadata": {},
     "output_type": "execute_result"
    }
   ],
   "source": [
    "class Rectangle:\n",
    "    def __init__(self, length, width):\n",
    "        self.length = length\n",
    "        self.width = width\n",
    "\n",
    "    def area(self):\n",
    "        return self.length * self.width\n",
    "\n",
    "r = Rectangle(5, 10)\n",
    "r.area()"
   ]
  },
  {
   "cell_type": "markdown",
   "id": "1a8e5e35-39b7-4121-9978-f6b45bb15894",
   "metadata": {},
   "source": [
    "#### 5) Define a class named Shape and its subclass Square.Shape objects can be consrtucted by name and length has an area function wich return 0.Square subclass has an init function which take a length and name as argument and has an area method and a describe method what prints the name of the Shape.Print the area from Square class."
   ]
  },
  {
   "cell_type": "code",
   "execution_count": 36,
   "id": "bf108fb5-3bc1-4b44-875f-52abbe0bd4a4",
   "metadata": {},
   "outputs": [
    {
     "name": "stdout",
     "output_type": "stream",
     "text": [
      "The area is: 25\n",
      "This is a: square\n"
     ]
    }
   ],
   "source": [
    "class Shape:\n",
    "    def __init__(self, name, length):\n",
    "        self.name = name\n",
    "        self.length = length\n",
    "\n",
    "    def area(self):\n",
    "        return 0\n",
    "\n",
    "\n",
    "class Square(Shape):\n",
    "    def __init__(self, name, length):\n",
    "        super().__init__(name, length)\n",
    "\n",
    "    def area(self):\n",
    "        return self.length ** 2\n",
    "\n",
    "    def describe(self):\n",
    "        print(f\"This is a: {self.name}\")\n",
    "\n",
    "s = Square('square', 5)\n",
    "print(f\"The area is: {s.area()}\")  \n",
    "s.describe() "
   ]
  },
  {
   "cell_type": "code",
   "execution_count": null,
   "id": "8d7c13fe-d566-431b-a5c3-b666d73f0383",
   "metadata": {},
   "outputs": [],
   "source": []
  }
 ],
 "metadata": {
  "kernelspec": {
   "display_name": "Python 3 (ipykernel)",
   "language": "python",
   "name": "python3"
  },
  "language_info": {
   "codemirror_mode": {
    "name": "ipython",
    "version": 3
   },
   "file_extension": ".py",
   "mimetype": "text/x-python",
   "name": "python",
   "nbconvert_exporter": "python",
   "pygments_lexer": "ipython3",
   "version": "3.12.7"
  }
 },
 "nbformat": 4,
 "nbformat_minor": 5
}
